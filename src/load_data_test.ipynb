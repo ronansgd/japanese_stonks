{
 "cells": [
  {
   "cell_type": "code",
   "execution_count": 3,
   "metadata": {},
   "outputs": [],
   "source": [
    "import numpy as np\n",
    "import pandas as pd\n",
    "import os"
   ]
  },
  {
   "cell_type": "code",
   "execution_count": 5,
   "metadata": {},
   "outputs": [
    {
     "name": "stdout",
     "output_type": "stream",
     "text": [
      "../input/stock_list.csv\n",
      "../input/.gitignore\n",
      "../input/jpx-tokyo-stock-exchange-prediction.zip\n",
      "../input/data_specifications/options_spec.csv\n",
      "../input/data_specifications/stock_price_spec.csv\n",
      "../input/data_specifications/stock_list_spec.csv\n",
      "../input/data_specifications/trades_spec.csv\n",
      "../input/data_specifications/stock_fin_spec.csv\n",
      "../input/train_files/trades.csv\n",
      "../input/train_files/secondary_stock_prices.csv\n",
      "../input/train_files/financials.csv\n",
      "../input/train_files/options.csv\n",
      "../input/train_files/stock_prices.csv\n",
      "../input/supplemental_files/trades.csv\n",
      "../input/supplemental_files/secondary_stock_prices.csv\n",
      "../input/supplemental_files/financials.csv\n",
      "../input/supplemental_files/options.csv\n",
      "../input/supplemental_files/stock_prices.csv\n",
      "../input/example_test_files/sample_submission.csv\n",
      "../input/example_test_files/trades.csv\n",
      "../input/example_test_files/secondary_stock_prices.csv\n",
      "../input/example_test_files/financials.csv\n",
      "../input/example_test_files/options.csv\n",
      "../input/example_test_files/stock_prices.csv\n",
      "../input/jpx_tokyo_market_prediction/competition.cpython-37m-x86_64-linux-gnu.so\n",
      "../input/jpx_tokyo_market_prediction/__init__.py\n"
     ]
    }
   ],
   "source": [
    "# print input folder content\n",
    "for dirname, _, filenames in os.walk('../input'):\n",
    "    for filename in filenames:\n",
    "        print(os.path.join(dirname, filename))"
   ]
  },
  {
   "cell_type": "code",
   "execution_count": 7,
   "metadata": {},
   "outputs": [],
   "source": [
    "TRAIN_DIR = \"../input/jpx-tokyo-stock-exchange-prediction/train_files\"\n",
    "assert os.path.isdir(TRAIN_DIR)"
   ]
  },
  {
   "cell_type": "code",
   "execution_count": 8,
   "metadata": {},
   "outputs": [
    {
     "name": "stdout",
     "output_type": "stream",
     "text": [
      "CPU times: user 2.37 s, sys: 194 ms, total: 2.57 s\n",
      "Wall time: 2.57 s\n"
     ]
    },
    {
     "data": {
      "text/html": [
       "<div>\n",
       "<style scoped>\n",
       "    .dataframe tbody tr th:only-of-type {\n",
       "        vertical-align: middle;\n",
       "    }\n",
       "\n",
       "    .dataframe tbody tr th {\n",
       "        vertical-align: top;\n",
       "    }\n",
       "\n",
       "    .dataframe thead th {\n",
       "        text-align: right;\n",
       "    }\n",
       "</style>\n",
       "<table border=\"1\" class=\"dataframe\">\n",
       "  <thead>\n",
       "    <tr style=\"text-align: right;\">\n",
       "      <th></th>\n",
       "      <th>RowId</th>\n",
       "      <th>Date</th>\n",
       "      <th>SecuritiesCode</th>\n",
       "      <th>Open</th>\n",
       "      <th>High</th>\n",
       "      <th>Low</th>\n",
       "      <th>Close</th>\n",
       "      <th>Volume</th>\n",
       "      <th>AdjustmentFactor</th>\n",
       "      <th>ExpectedDividend</th>\n",
       "      <th>SupervisionFlag</th>\n",
       "      <th>Target</th>\n",
       "    </tr>\n",
       "  </thead>\n",
       "  <tbody>\n",
       "    <tr>\n",
       "      <th>0</th>\n",
       "      <td>20170104_1301</td>\n",
       "      <td>2017-01-04</td>\n",
       "      <td>1301</td>\n",
       "      <td>2734.0</td>\n",
       "      <td>2755.0</td>\n",
       "      <td>2730.0</td>\n",
       "      <td>2742.0</td>\n",
       "      <td>31400</td>\n",
       "      <td>1.0</td>\n",
       "      <td>NaN</td>\n",
       "      <td>False</td>\n",
       "      <td>0.000730</td>\n",
       "    </tr>\n",
       "    <tr>\n",
       "      <th>1</th>\n",
       "      <td>20170104_1332</td>\n",
       "      <td>2017-01-04</td>\n",
       "      <td>1332</td>\n",
       "      <td>568.0</td>\n",
       "      <td>576.0</td>\n",
       "      <td>563.0</td>\n",
       "      <td>571.0</td>\n",
       "      <td>2798500</td>\n",
       "      <td>1.0</td>\n",
       "      <td>NaN</td>\n",
       "      <td>False</td>\n",
       "      <td>0.012324</td>\n",
       "    </tr>\n",
       "    <tr>\n",
       "      <th>2</th>\n",
       "      <td>20170104_1333</td>\n",
       "      <td>2017-01-04</td>\n",
       "      <td>1333</td>\n",
       "      <td>3150.0</td>\n",
       "      <td>3210.0</td>\n",
       "      <td>3140.0</td>\n",
       "      <td>3210.0</td>\n",
       "      <td>270800</td>\n",
       "      <td>1.0</td>\n",
       "      <td>NaN</td>\n",
       "      <td>False</td>\n",
       "      <td>0.006154</td>\n",
       "    </tr>\n",
       "    <tr>\n",
       "      <th>3</th>\n",
       "      <td>20170104_1376</td>\n",
       "      <td>2017-01-04</td>\n",
       "      <td>1376</td>\n",
       "      <td>1510.0</td>\n",
       "      <td>1550.0</td>\n",
       "      <td>1510.0</td>\n",
       "      <td>1550.0</td>\n",
       "      <td>11300</td>\n",
       "      <td>1.0</td>\n",
       "      <td>NaN</td>\n",
       "      <td>False</td>\n",
       "      <td>0.011053</td>\n",
       "    </tr>\n",
       "    <tr>\n",
       "      <th>4</th>\n",
       "      <td>20170104_1377</td>\n",
       "      <td>2017-01-04</td>\n",
       "      <td>1377</td>\n",
       "      <td>3270.0</td>\n",
       "      <td>3350.0</td>\n",
       "      <td>3270.0</td>\n",
       "      <td>3330.0</td>\n",
       "      <td>150800</td>\n",
       "      <td>1.0</td>\n",
       "      <td>NaN</td>\n",
       "      <td>False</td>\n",
       "      <td>0.003026</td>\n",
       "    </tr>\n",
       "  </tbody>\n",
       "</table>\n",
       "</div>"
      ],
      "text/plain": [
       "           RowId        Date  SecuritiesCode    Open    High     Low   Close  \\\n",
       "0  20170104_1301  2017-01-04            1301  2734.0  2755.0  2730.0  2742.0   \n",
       "1  20170104_1332  2017-01-04            1332   568.0   576.0   563.0   571.0   \n",
       "2  20170104_1333  2017-01-04            1333  3150.0  3210.0  3140.0  3210.0   \n",
       "3  20170104_1376  2017-01-04            1376  1510.0  1550.0  1510.0  1550.0   \n",
       "4  20170104_1377  2017-01-04            1377  3270.0  3350.0  3270.0  3330.0   \n",
       "\n",
       "    Volume  AdjustmentFactor  ExpectedDividend  SupervisionFlag    Target  \n",
       "0    31400               1.0               NaN            False  0.000730  \n",
       "1  2798500               1.0               NaN            False  0.012324  \n",
       "2   270800               1.0               NaN            False  0.006154  \n",
       "3    11300               1.0               NaN            False  0.011053  \n",
       "4   150800               1.0               NaN            False  0.003026  "
      ]
     },
     "execution_count": 8,
     "metadata": {},
     "output_type": "execute_result"
    }
   ],
   "source": [
    "%%time\n",
    "# load the prices\n",
    "df_prices = pd.read_csv(os.path.join(TRAIN_DIR, 'stock_prices.csv'))\n",
    "\n",
    "df_prices.head()"
   ]
  },
  {
   "cell_type": "code",
   "execution_count": null,
   "metadata": {},
   "outputs": [],
   "source": []
  }
 ],
 "metadata": {
  "interpreter": {
   "hash": "f5913df29fe75c7e924f00b7df1d9acccd84f52cfed4d9616c9668ac5fbbad38"
  },
  "kernelspec": {
   "display_name": "Python 3.8.5 ('jap_stonk')",
   "language": "python",
   "name": "python3"
  },
  "language_info": {
   "codemirror_mode": {
    "name": "ipython",
    "version": 3
   },
   "file_extension": ".py",
   "mimetype": "text/x-python",
   "name": "python",
   "nbconvert_exporter": "python",
   "pygments_lexer": "ipython3",
   "version": "3.8.5"
  },
  "orig_nbformat": 4
 },
 "nbformat": 4,
 "nbformat_minor": 2
}
